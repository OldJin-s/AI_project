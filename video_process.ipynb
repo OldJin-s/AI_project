{
 "cells": [
  {
   "cell_type": "code",
   "execution_count": 7,
   "metadata": {},
   "outputs": [],
   "source": [
    "import torch\n",
    "import gcn_source\n",
    "import lstm_autoencoder_source\n",
    "import mediapipe as mp\n",
    "import numpy as np\n",
    "import cv2\n",
    "import time"
   ]
  },
  {
   "cell_type": "markdown",
   "metadata": {},
   "source": [
    "## 검은 화면에 그래프만 남기기 - 영상 전체"
   ]
  },
  {
   "cell_type": "code",
   "execution_count": null,
   "metadata": {},
   "outputs": [
    {
     "name": "stderr",
     "output_type": "stream",
     "text": [
      "I0000 00:00:1736993837.918200 51275490 gl_context.cc:369] GL version: 2.1 (2.1 Metal - 89.3), renderer: Apple M1\n",
      "W0000 00:00:1736993837.999181 51286809 inference_feedback_manager.cc:114] Feedback manager requires a model with a single signature inference. Disabling support for feedback tensors.\n",
      "W0000 00:00:1736993838.044440 51286814 inference_feedback_manager.cc:114] Feedback manager requires a model with a single signature inference. Disabling support for feedback tensors.\n",
      "W0000 00:00:1736993838.047510 51286815 inference_feedback_manager.cc:114] Feedback manager requires a model with a single signature inference. Disabling support for feedback tensors.\n",
      "W0000 00:00:1736993838.048110 51286809 inference_feedback_manager.cc:114] Feedback manager requires a model with a single signature inference. Disabling support for feedback tensors.\n",
      "W0000 00:00:1736993838.048246 51286812 inference_feedback_manager.cc:114] Feedback manager requires a model with a single signature inference. Disabling support for feedback tensors.\n",
      "W0000 00:00:1736993838.060035 51286816 inference_feedback_manager.cc:114] Feedback manager requires a model with a single signature inference. Disabling support for feedback tensors.\n",
      "W0000 00:00:1736993838.064577 51286815 inference_feedback_manager.cc:114] Feedback manager requires a model with a single signature inference. Disabling support for feedback tensors.\n",
      "W0000 00:00:1736993838.064676 51286812 inference_feedback_manager.cc:114] Feedback manager requires a model with a single signature inference. Disabling support for feedback tensors.\n"
     ]
    },
    {
     "name": "stdout",
     "output_type": "stream",
     "text": [
      "No Source !!!\n"
     ]
    },
    {
     "data": {
      "text/plain": [
       "-1"
      ]
     },
     "execution_count": 6,
     "metadata": {},
     "output_type": "execute_result"
    }
   ],
   "source": [
    "# Mediapipe Holistic 초기화\n",
    "mp_holistic = mp.solutions.holistic\n",
    "mp_drawing = mp.solutions.drawing_utils\n",
    "mp_drawing_styles = mp.solutions.drawing_styles\n",
    "\n",
    "# 비디오 파일 범위 처리 (squat_001.mp4부터 squat_100.mp4까지)\n",
    "for i in range(1, 101):\n",
    "    # 비디오 파일 경로 생성\n",
    "    video_file = f'squat_data/squat_{i:03d}.mp4'\n",
    "    cap = cv2.VideoCapture(video_file)\n",
    "    \n",
    "    if not cap.isOpened():\n",
    "        print(f\"Cannot open video {video_file}\")\n",
    "        continue\n",
    "    \n",
    "    # 영상 정보 가져오기\n",
    "    w = round(cap.get(cv2.CAP_PROP_FRAME_WIDTH))\n",
    "    h = round(cap.get(cv2.CAP_PROP_FRAME_HEIGHT))\n",
    "    fps = cap.get(cv2.CAP_PROP_FPS)\n",
    "    \n",
    "    # 출력 파일 경로\n",
    "    out_file = f'squat_processed/squat_graph_{i:03d}.avi'\n",
    "    fourcc = cv2.VideoWriter_fourcc(*'DIVX')\n",
    "    out = cv2.VideoWriter(out_file, fourcc, fps, (w, h))\n",
    "    \n",
    "    prev_time = 0\n",
    "    \n",
    "    # Mediapipe Holistic 실행\n",
    "    with mp_holistic.Holistic(\n",
    "        static_image_mode=True, min_detection_confidence=0.5, model_complexity=2) as holistic:\n",
    "        while cap.isOpened():\n",
    "            success, image = cap.read()\n",
    "            if not success:\n",
    "                print(f\"End of video {video_file}\")\n",
    "                break\n",
    "            \n",
    "            curr_time = time.time()\n",
    "            \n",
    "            # 검은 화면 생성\n",
    "            black_frame = np.zeros((h, w, 3), dtype=np.uint8)\n",
    "            \n",
    "            # BGR 이미지를 RGB로 변환 후 처리\n",
    "            results = holistic.process(cv2.cvtColor(image, cv2.COLOR_BGR2RGB))\n",
    "            \n",
    "            # 랜드마크 그리기\n",
    "            if results.left_hand_landmarks:\n",
    "                mp_drawing.draw_landmarks(\n",
    "                    black_frame, results.left_hand_landmarks, mp_holistic.HAND_CONNECTIONS)\n",
    "            if results.right_hand_landmarks:\n",
    "                mp_drawing.draw_landmarks(\n",
    "                    black_frame, results.right_hand_landmarks, mp_holistic.HAND_CONNECTIONS)\n",
    "            if results.face_landmarks:\n",
    "                mp_drawing.draw_landmarks(\n",
    "                    black_frame, results.face_landmarks, mp_holistic.FACEMESH_TESSELATION,\n",
    "                    landmark_drawing_spec=None,\n",
    "                    connection_drawing_spec=mp_drawing_styles.get_default_face_mesh_tesselation_style())\n",
    "            if results.pose_landmarks:\n",
    "                mp_drawing.draw_landmarks(\n",
    "                    black_frame, results.pose_landmarks, mp_holistic.POSE_CONNECTIONS,\n",
    "                    landmark_drawing_spec=mp_drawing_styles.get_default_pose_landmarks_style())\n",
    "            \n",
    "            # FPS 계산 및 표시\n",
    "            sec = curr_time - prev_time\n",
    "            prev_time = curr_time\n",
    "            fps = 1 / (sec)\n",
    "            fps_str = \"FPS : %0.1f\" % fps\n",
    "            cv2.putText(black_frame, fps_str, (10, 50), cv2.FONT_HERSHEY_SIMPLEX, 1, (0, 255, 0), 2)\n",
    "            \n",
    "            # 출력 영상 저장 (화면 출력은 없음)\n",
    "            out.write(black_frame)\n",
    "        \n",
    "    cap.release()\n",
    "    out.release()\n",
    "\n",
    "cv2.destroyAllWindows()\n",
    "\n",
    "cv2.waitKey(1)\n"
   ]
  },
  {
   "cell_type": "markdown",
   "metadata": {},
   "source": [
    "## 검은 화면에 그래프만 남기기 - 영상 초기 30프레임만"
   ]
  },
  {
   "cell_type": "code",
   "execution_count": null,
   "metadata": {},
   "outputs": [],
   "source": [
    "# 비디오 파일 범위 처리 (squat_001.mp4부터 squat_100.mp4까지)\n",
    "for i in range(1, 101):\n",
    "    # 비디오 파일 경로 생성\n",
    "    video_file = f'squat_data/squat_{i:03d}.mp4'\n",
    "    cap = cv2.VideoCapture(video_file)\n",
    "    \n",
    "    if not cap.isOpened():\n",
    "        print(f\"Cannot open video {video_file}\")\n",
    "        continue\n",
    "    \n",
    "    # 영상 정보 가져오기\n",
    "    w = round(cap.get(cv2.CAP_PROP_FRAME_WIDTH))\n",
    "    h = round(cap.get(cv2.CAP_PROP_FRAME_HEIGHT))\n",
    "    fps = cap.get(cv2.CAP_PROP_FPS)\n",
    "    \n",
    "    # 출력 파일 경로\n",
    "    out_file = f'squat_start/squat_graph_start_{i:03d}.avi'\n",
    "    fourcc = cv2.VideoWriter_fourcc(*'DIVX')\n",
    "    out = cv2.VideoWriter(out_file, fourcc, fps, (w, h))\n",
    "    \n",
    "    prev_time = 0\n",
    "    frame_count = 0  # 프레임 수 카운트\n",
    "    \n",
    "    # Mediapipe Holistic 실행\n",
    "    with mp_holistic.Holistic(\n",
    "        static_image_mode=True, min_detection_confidence=0.5, model_complexity=2) as holistic:\n",
    "        while cap.isOpened() and frame_count < 30:  # 첫 30프레임만 처리\n",
    "            success, image = cap.read()\n",
    "            if not success:\n",
    "                print(f\"End of video {video_file}\")\n",
    "                break\n",
    "            \n",
    "            curr_time = time.time()\n",
    "            \n",
    "            # 검은 화면 생성\n",
    "            black_frame = np.zeros((h, w, 3), dtype=np.uint8)\n",
    "            \n",
    "            # BGR 이미지를 RGB로 변환 후 처리\n",
    "            results = holistic.process(cv2.cvtColor(image, cv2.COLOR_BGR2RGB))\n",
    "            \n",
    "            # 랜드마크 그리기\n",
    "            if results.left_hand_landmarks:\n",
    "                mp_drawing.draw_landmarks(\n",
    "                    black_frame, results.left_hand_landmarks, mp_holistic.HAND_CONNECTIONS)\n",
    "            if results.right_hand_landmarks:\n",
    "                mp_drawing.draw_landmarks(\n",
    "                    black_frame, results.right_hand_landmarks, mp_holistic.HAND_CONNECTIONS)\n",
    "            if results.face_landmarks:\n",
    "                mp_drawing.draw_landmarks(\n",
    "                    black_frame, results.face_landmarks, mp_holistic.FACEMESH_TESSELATION,\n",
    "                    landmark_drawing_spec=None,\n",
    "                    connection_drawing_spec=mp_drawing_styles.get_default_face_mesh_tesselation_style())\n",
    "            if results.pose_landmarks:\n",
    "                mp_drawing.draw_landmarks(\n",
    "                    black_frame, results.pose_landmarks, mp_holistic.POSE_CONNECTIONS,\n",
    "                    landmark_drawing_spec=mp_drawing_styles.get_default_pose_landmarks_style())\n",
    "            \n",
    "            # FPS 계산 및 표시\n",
    "            sec = curr_time - prev_time\n",
    "            prev_time = curr_time\n",
    "            fps = 1 / (sec)\n",
    "            fps_str = \"FPS : %0.1f\" % fps\n",
    "            cv2.putText(black_frame, fps_str, (10, 50), cv2.FONT_HERSHEY_SIMPLEX, 1, (0, 255, 0), 2)\n",
    "            \n",
    "            # 출력 영상 저장 (화면 출력은 없음)\n",
    "            out.write(black_frame)\n",
    "            \n",
    "            # 프레임 카운트 증가\n",
    "            frame_count += 1\n",
    "        \n",
    "    cap.release()\n",
    "    out.release()\n",
    "\n",
    "cv2.destroyAllWindows()\n",
    "cv2.waitKey(1)"
   ]
  },
  {
   "cell_type": "markdown",
   "metadata": {},
   "source": [
    "## 웹캠 영상 그래프로 변환"
   ]
  },
  {
   "cell_type": "code",
   "execution_count": 10,
   "metadata": {},
   "outputs": [
    {
     "name": "stderr",
     "output_type": "stream",
     "text": [
      "I0000 00:00:1736997963.559283 51275490 gl_context.cc:369] GL version: 2.1 (2.1 Metal - 89.3), renderer: Apple M1\n",
      "W0000 00:00:1736997963.695797 51339543 inference_feedback_manager.cc:114] Feedback manager requires a model with a single signature inference. Disabling support for feedback tensors.\n",
      "W0000 00:00:1736997963.719172 51339548 inference_feedback_manager.cc:114] Feedback manager requires a model with a single signature inference. Disabling support for feedback tensors.\n"
     ]
    },
    {
     "data": {
      "text/plain": [
       "-1"
      ]
     },
     "execution_count": 10,
     "metadata": {},
     "output_type": "execute_result"
    }
   ],
   "source": [
    "# Mediapipe Pose 초기화\n",
    "mp_pose = mp.solutions.pose\n",
    "mp_drawing = mp.solutions.drawing_utils\n",
    "pose = mp_pose.Pose(static_image_mode=False, \n",
    "                    model_complexity=1, \n",
    "                    enable_segmentation=False, \n",
    "                    min_detection_confidence=0.5, \n",
    "                    min_tracking_confidence=0.5)\n",
    "\n",
    "# 비디오 입력 설정\n",
    "cap = cv2.VideoCapture(0)\n",
    "\n",
    "while cap.isOpened():\n",
    "    ret, frame = cap.read()\n",
    "    if not ret:\n",
    "        break\n",
    "    \n",
    "    # BGR 이미지를 RGB로 변환\n",
    "    rgb_frame = cv2.cvtColor(frame, cv2.COLOR_BGR2RGB)\n",
    "    \n",
    "    # Pose 추론\n",
    "    results = pose.process(rgb_frame)\n",
    "    \n",
    "    # 검은 화면 생성\n",
    "    black_frame = np.zeros((480, 640, 3), dtype=np.uint8)  # 480x640 해상도, 검은 배경\n",
    "    \n",
    "    # Pose 결과를 검은 화면에 그리기\n",
    "    if results.pose_landmarks:\n",
    "        mp_drawing.draw_landmarks(\n",
    "            black_frame, \n",
    "            results.pose_landmarks, \n",
    "            mp_pose.POSE_CONNECTIONS,\n",
    "            mp_drawing.DrawingSpec(color=(0, 255, 0), thickness=2, circle_radius=2),  # 랜드마크 스타일\n",
    "            mp_drawing.DrawingSpec(color=(255, 255, 255), thickness=2)  # 연결선 스타일\n",
    "        )\n",
    "    \n",
    "    # 결과 화면 출력\n",
    "    cv2.imshow('Pose Graph on Black Background', black_frame)\n",
    "    cv2.imshow('video',frame)\n",
    "    if cv2.waitKey(1) == ord('q'):  # ESC 키로 종료\n",
    "        break\n",
    "\n",
    "cap.release()\n",
    "cv2.destroyAllWindows()\n",
    "cv2.waitKey(1)"
   ]
  },
  {
   "cell_type": "code",
   "execution_count": null,
   "metadata": {},
   "outputs": [],
   "source": []
  }
 ],
 "metadata": {
  "kernelspec": {
   "display_name": "OldJins",
   "language": "python",
   "name": "python3"
  },
  "language_info": {
   "codemirror_mode": {
    "name": "ipython",
    "version": 3
   },
   "file_extension": ".py",
   "mimetype": "text/x-python",
   "name": "python",
   "nbconvert_exporter": "python",
   "pygments_lexer": "ipython3",
   "version": "3.9.21"
  }
 },
 "nbformat": 4,
 "nbformat_minor": 2
}
