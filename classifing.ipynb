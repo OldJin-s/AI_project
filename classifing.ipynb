{
 "cells": [
  {
   "cell_type": "markdown",
   "metadata": {},
   "source": [
    "## 운동 분류"
   ]
  },
  {
   "cell_type": "code",
   "execution_count": 1,
   "metadata": {},
   "outputs": [],
   "source": [
    "import numpy as np\n",
    "import torch\n",
    "from torch import nn\n",
    "import torch.optim as optim\n",
    "import matplotlib.pyplot as plt\n",
    "from gcn_source import GraphRNNClassifier\n",
    "from torch.optim.lr_scheduler import CosineAnnealingLR\n",
    "from torch.utils.data import Dataset, DataLoader\n",
    "from torchvision import transforms\n",
    "from PIL import Image\n",
    "import os\n",
    "import cv2\n",
    "import pickle"
   ]
  },
  {
   "cell_type": "markdown",
   "metadata": {},
   "source": [
    "## data "
   ]
  },
  {
   "cell_type": "code",
   "execution_count": 2,
   "metadata": {},
   "outputs": [
    {
     "name": "stdout",
     "output_type": "stream",
     "text": [
      "torch.Size([4, 30, 1, 640, 480])\n"
     ]
    }
   ],
   "source": [
    "with open(\"start_dataloader.pkl\", \"rb\") as f:\n",
    "    saved_data = pickle.load(f)\n",
    "\n",
    "loaded_dataset = saved_data[\"dataset\"]\n",
    "start_dataloader = DataLoader(\n",
    "    loaded_dataset,\n",
    "    batch_size=saved_data[\"batch_size\"],\n",
    "    shuffle=saved_data[\"shuffle\"],\n",
    ")\n",
    "for inputs, labels in start_dataloader:\n",
    "    print(inputs.shape)  # 모델의 입력 크기 확인\n",
    "    break\n"
   ]
  },
  {
   "cell_type": "code",
   "execution_count": 3,
   "metadata": {},
   "outputs": [
    {
     "data": {
      "text/plain": [
       "device(type='cuda', index=0)"
      ]
     },
     "execution_count": 3,
     "metadata": {},
     "output_type": "execute_result"
    }
   ],
   "source": [
    "device = torch.device('cuda:0') if torch.cuda.is_available() else torch.device('cpu')\n",
    "from cnn_source import Simple3DCNN\n",
    "model = Simple3DCNN().to(device)\n",
    "optimizer = optim.RAdam(model.parameters(),lr = 1e-3)\n",
    "criterion = nn.CrossEntropyLoss()\n",
    "scheduler = CosineAnnealingLR(optimizer, T_max=25, eta_min=0.0001)\n",
    "def saveModel():\n",
    "    torch.save(model.state_dict(), f'model/classifying_2.pt')\n",
    "loss_ = []\n",
    "valoss_ = []\n",
    "logger = {\"train_loss\": list(),\n",
    "          \"validation_loss\": list(),\n",
    "\n",
    "          }\n",
    "\n",
    "device"
   ]
  },
  {
   "cell_type": "markdown",
   "metadata": {},
   "source": [
    "## 모든 데이터 train"
   ]
  },
  {
   "cell_type": "code",
   "execution_count": null,
   "metadata": {},
   "outputs": [
    {
     "name": "stdout",
     "output_type": "stream",
     "text": [
      "Epoch 1, Loss: 0.0002988682945078024\n",
      "model_saved\n",
      "Epoch 2, Loss: 0.00010496939752234492\n",
      "model_saved\n",
      "Epoch 3, Loss: 7.315874366589917e-05\n",
      "model_saved\n",
      "Epoch 4, Loss: 5.301659988059321e-05\n",
      "model_saved\n",
      "Epoch 5, Loss: 3.9623061668104186e-05\n",
      "model_saved\n",
      "Epoch 6, Loss: 2.6517843248292963e-05\n",
      "model_saved\n",
      "Epoch 7, Loss: 8.836745602475798e-06\n",
      "model_saved\n",
      "Epoch 8, Loss: 4.319306763976485e-06\n",
      "model_saved\n",
      "Epoch 9, Loss: 2.7277643357768815e-06\n",
      "model_saved\n",
      "Epoch 10, Loss: 2.1074811572020486e-06\n",
      "model_saved\n",
      "Epoch 11, Loss: 1.6715407561144604e-06\n",
      "model_saved\n",
      "Epoch 12, Loss: 1.4101840676265466e-06\n",
      "model_saved\n",
      "Epoch 13, Loss: 1.2332204908234286e-06\n",
      "model_saved\n",
      "Epoch 14, Loss: 1.06997172108811e-06\n",
      "model_saved\n",
      "Epoch 15, Loss: 8.951169856696959e-07\n",
      "model_saved\n",
      "Epoch 16, Loss: 7.724809912207119e-07\n",
      "model_saved\n",
      "Epoch 17, Loss: 6.793832235192778e-07\n",
      "model_saved\n",
      "Epoch 18, Loss: 5.912962880468329e-07\n",
      "model_saved\n",
      "Epoch 19, Loss: 5.203513487941288e-07\n",
      "model_saved\n",
      "Epoch 20, Loss: 4.6997811466742323e-07\n",
      "model_saved\n"
     ]
    }
   ],
   "source": [
    "model.train()  # 학습 모드 설정\n",
    "epochs = 30\n",
    "min_loss = 1e+10\n",
    "for epoch in range(epochs):\n",
    "    running_loss = 0.0\n",
    "    for i, (inputs, labels) in enumerate(start_dataloader):\n",
    "        # 데이터를 디바이스로 이동\n",
    "        inputs = inputs.to(device).permute(0,2,1,3,4)\n",
    "        labels = labels.to(device)\n",
    "\n",
    "        # 옵티마이저 초기화\n",
    "        optimizer.zero_grad()\n",
    "        \n",
    "        # 모델 출력 계산\n",
    "        outputs = model(inputs)\n",
    "        \n",
    "        # 손실 계산\n",
    "        loss = criterion(outputs, labels)\n",
    "        \n",
    "        # 역전파 및 옵티마이저 업데이트\n",
    "        loss.backward()\n",
    "        optimizer.step()\n",
    "        \n",
    "        # 배치 손실 기록\n",
    "        running_loss += loss.item()\n",
    "        mean_loss = running_loss / len(start_dataloader)\n",
    "    # 에포크별 평균 손실 출력\n",
    "    print(f\"Epoch {epoch+1}, Loss: {mean_loss}\")\n",
    "    if min(mean_loss,min_loss) == mean_loss:\n",
    "        min_loss = mean_loss\n",
    "        print('model_saved')\n",
    "        saveModel()\n",
    "print(\"학습 완료\")\n"
   ]
  },
  {
   "cell_type": "code",
   "execution_count": null,
   "metadata": {},
   "outputs": [],
   "source": []
  }
 ],
 "metadata": {
  "kernelspec": {
   "display_name": "oldjins",
   "language": "python",
   "name": "python3"
  },
  "language_info": {
   "codemirror_mode": {
    "name": "ipython",
    "version": 3
   },
   "file_extension": ".py",
   "mimetype": "text/x-python",
   "name": "python",
   "nbconvert_exporter": "python",
   "pygments_lexer": "ipython3",
   "version": "3.9.11"
  }
 },
 "nbformat": 4,
 "nbformat_minor": 2
}
