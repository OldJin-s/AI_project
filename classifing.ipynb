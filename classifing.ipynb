{
 "cells": [
  {
   "cell_type": "markdown",
   "metadata": {},
   "source": [
    "## 운동 분류"
   ]
  },
  {
   "cell_type": "code",
   "execution_count": 1,
   "metadata": {},
   "outputs": [],
   "source": [
    "import numpy as np\n",
    "import torch\n",
    "from torch import nn\n",
    "import torch.optim as optim\n",
    "import matplotlib.pyplot as plt\n",
    "from gcn_source import GraphRNNClassifier\n",
    "from torch.optim.lr_scheduler import CosineAnnealingLR\n",
    "from torch.utils.data import Dataset, DataLoader\n",
    "from torchvision import transforms\n",
    "from PIL import Image\n",
    "import os\n",
    "import cv2\n",
    "import pickle"
   ]
  },
  {
   "cell_type": "markdown",
   "metadata": {},
   "source": [
    "## data "
   ]
  },
  {
   "cell_type": "code",
   "execution_count": 2,
   "metadata": {},
   "outputs": [
    {
     "name": "stdout",
     "output_type": "stream",
     "text": [
      "torch.Size([4, 15, 1, 640, 480])\n"
     ]
    }
   ],
   "source": [
    "with open(\"start_dataloader.pkl\", \"rb\") as f:\n",
    "    saved_data = pickle.load(f)\n",
    "\n",
    "loaded_dataset = saved_data[\"dataset\"]\n",
    "start_dataloader = DataLoader(\n",
    "    loaded_dataset,\n",
    "    batch_size=saved_data[\"batch_size\"],\n",
    "    shuffle=saved_data[\"shuffle\"],\n",
    ")\n",
    "for inputs, labels in start_dataloader:\n",
    "    print(inputs.shape)  # 모델의 입력 크기 확인\n",
    "    break\n"
   ]
  },
  {
   "cell_type": "code",
   "execution_count": 3,
   "metadata": {},
   "outputs": [
    {
     "data": {
      "text/plain": [
       "device(type='cuda', index=0)"
      ]
     },
     "execution_count": 3,
     "metadata": {},
     "output_type": "execute_result"
    }
   ],
   "source": [
    "device = torch.device('cuda:0') if torch.cuda.is_available() else torch.device('cpu')\n",
    "from cnn_source import Simple3DCNN\n",
    "model = Simple3DCNN().to(device)\n",
    "optimizer = optim.RAdam(model.parameters(),lr = 1e-3)\n",
    "criterion = nn.CrossEntropyLoss()\n",
    "scheduler = CosineAnnealingLR(optimizer, T_max=25, eta_min=0.0001)\n",
    "def saveModel():\n",
    "    torch.save(model.state_dict(), f'model/classifying.pt')\n",
    "loss_ = []\n",
    "valoss_ = []\n",
    "logger = {\"train_loss\": list(),\n",
    "          \"validation_loss\": list(),\n",
    "\n",
    "          }\n",
    "\n",
    "device"
   ]
  },
  {
   "cell_type": "code",
   "execution_count": 4,
   "metadata": {},
   "outputs": [],
   "source": [
    "def training(epochs) :\n",
    "\n",
    "    for epoch in range(epochs):\n",
    "        running_train_loss = 0.0\n",
    "        running_vall_loss = 0.0\n",
    "        total = 0\n",
    "        model.train()\n",
    "        for data in train_x:\n",
    "            inputs = data\n",
    "            outputs = data\n",
    "\n",
    "            optimizer.zero_grad()  # zero the parameter gradients\n",
    "            encoded, predicted_outputs = model((inputs))  # predict output from the model\n",
    "            train_loss = criterion(predicted_outputs, outputs)# calculate loss for the predicted output\n",
    "\n",
    "            train_loss.backward()  # backpropagate the loss\n",
    "            optimizer.step()  # adjust parameters based on the calculated gradients\n",
    "            running_train_loss += train_loss.item()  # track the loss value\n",
    "\n",
    "        loss_.append(running_train_loss / n)\n",
    "        with torch.no_grad():\n",
    "            model.eval()\n",
    "            for data in valid_x:\n",
    "                inputs = data\n",
    "                outputs = data\n",
    "\n",
    "                encoded, predicted_outputs = model((inputs))\n",
    "                val_loss = criterion(predicted_outputs, outputs)\n",
    "\n",
    "                # The label with the highest value will be our prediction\n",
    "                _, predicted = torch.max(predicted_outputs, 1)\n",
    "                running_vall_loss += val_loss.item()\n",
    "                total += outputs.size(0)\n",
    "                val_loss_value = running_vall_loss / len(valid_x)\n",
    "\n",
    "\n",
    "        valoss_.append(val_loss_value)\n",
    "\n",
    "        avgtrainloss = np.mean(loss_)\n",
    "        avgvalidloss = np.mean(valoss_)\n",
    "        print('epoch', epoch + 1)\n",
    "        print(f'train loss : {avgtrainloss}, validation loss : {avgvalidloss}')\n",
    "        early_stopping(avgvalidloss, model)\n",
    "        if early_stopping.early_stop:  # 조건 만족 시 조기 종료\n",
    "            break\n",
    "    saveModel()"
   ]
  },
  {
   "cell_type": "markdown",
   "metadata": {},
   "source": [
    "## 모든 데이터 train"
   ]
  },
  {
   "cell_type": "code",
   "execution_count": 4,
   "metadata": {},
   "outputs": [
    {
     "name": "stdout",
     "output_type": "stream",
     "text": [
      "Epoch 1, Loss: 0.6589767369112016\n",
      "Epoch 2, Loss: 0.09484111151680663\n",
      "Epoch 3, Loss: 0.039362522457536096\n",
      "Epoch 4, Loss: 0.15697261568363977\n",
      "Epoch 5, Loss: 0.036926437761572055\n",
      "Epoch 6, Loss: 0.0026893180591736556\n",
      "Epoch 7, Loss: 0.00017177184424213638\n",
      "Epoch 8, Loss: 4.5169222213361055e-05\n",
      "Epoch 9, Loss: 3.097920076161167e-05\n",
      "Epoch 10, Loss: 2.3337759232437364e-05\n",
      "학습 완료\n"
     ]
    }
   ],
   "source": [
    "model.train()  # 학습 모드 설정\n",
    "epochs = 10\n",
    "for epoch in range(epochs):\n",
    "    running_loss = 0.0\n",
    "    for i, (inputs, labels) in enumerate(start_dataloader):\n",
    "        # 데이터를 디바이스로 이동\n",
    "        inputs = inputs.to(device).permute(0,2,1,3,4)\n",
    "        labels = labels.to(device)\n",
    "\n",
    "        # 옵티마이저 초기화\n",
    "        optimizer.zero_grad()\n",
    "        \n",
    "        # 모델 출력 계산\n",
    "        outputs = model(inputs)\n",
    "        \n",
    "        # 손실 계산\n",
    "        loss = criterion(outputs, labels)\n",
    "        \n",
    "        # 역전파 및 옵티마이저 업데이트\n",
    "        loss.backward()\n",
    "        optimizer.step()\n",
    "        \n",
    "        # 배치 손실 기록\n",
    "        running_loss += loss.item()\n",
    "\n",
    "    # 에포크별 평균 손실 출력\n",
    "    print(f\"Epoch {epoch+1}, Loss: {running_loss / len(start_dataloader)}\")\n",
    "\n",
    "print(\"학습 완료\")\n"
   ]
  },
  {
   "cell_type": "code",
   "execution_count": 6,
   "metadata": {},
   "outputs": [],
   "source": [
    "def saveModel():\n",
    "    torch.save(model.state_dict(), f'model/classifying_cnn.pt')\n",
    "saveModel()"
   ]
  },
  {
   "cell_type": "code",
   "execution_count": null,
   "metadata": {},
   "outputs": [],
   "source": []
  }
 ],
 "metadata": {
  "kernelspec": {
   "display_name": "oldjins",
   "language": "python",
   "name": "python3"
  },
  "language_info": {
   "codemirror_mode": {
    "name": "ipython",
    "version": 3
   },
   "file_extension": ".py",
   "mimetype": "text/x-python",
   "name": "python",
   "nbconvert_exporter": "python",
   "pygments_lexer": "ipython3",
   "version": "3.9.11"
  }
 },
 "nbformat": 4,
 "nbformat_minor": 2
}
