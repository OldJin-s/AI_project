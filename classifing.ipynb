{
 "cells": [
  {
   "cell_type": "markdown",
   "metadata": {},
   "source": [
    "## 운동 분류"
   ]
  },
  {
   "cell_type": "code",
   "execution_count": null,
   "metadata": {},
   "outputs": [],
   "source": [
    "import numpy as np\n",
    "import torch\n",
    "from torch import nn\n",
    "import torch.optim as optim\n",
    "import matplotlib.pyplot as plt\n",
    "from pytorchtools import EarlyStopping\n",
    "from temporalize import create_dataset\n",
    "from gcn_source import PoseGCN\n",
    "from torch.optim.lr_scheduler import CosineAnnealingLR\n",
    "from torch.utils.data import Dataset, DataLoader\n",
    "from torchvision import transforms\n",
    "from PIL import Image\n",
    "import os\n",
    "import pickle"
   ]
  },
  {
   "cell_type": "markdown",
   "metadata": {},
   "source": [
    "## data "
   ]
  },
  {
   "cell_type": "code",
   "execution_count": null,
   "metadata": {},
   "outputs": [],
   "source": [
    "class VideoDataset(Dataset):\n",
    "    def __init__(self, video_folder, transform=None):\n",
    "        \"\"\"\n",
    "        :param video_folder: 영상 데이터가 저장된 폴더 경로\n",
    "        :param transform: 영상에 적용할 변환 (예: 크기 조정, 텐서 변환 등)\n",
    "        \"\"\"\n",
    "        self.video_folder = video_folder\n",
    "        self.video_files = [f for f in os.listdir(video_folder) if f.endswith('.mp4')]  # .mp4 확장자를 가진 파일만 선택\n",
    "        self.transform = transform\n",
    "\n",
    "    def __len__(self):\n",
    "        return len(self.video_files)\n",
    "\n",
    "    def __getitem__(self, idx):\n",
    "        video_path = os.path.join(self.video_folder, self.video_files[idx])\n",
    "        \n",
    "        # 영상 파일 불러오기 (예시에서는 첫 번째 프레임만 불러오는 예시)\n",
    "        video = Image.open(video_path)\n",
    "        \n",
    "        # 변환 적용 (필요한 경우)\n",
    "        if self.transform:\n",
    "            video = self.transform(video)\n",
    "        \n",
    "        # 이 예시에서는 영상 데이터와 레이블이 함께 있다고 가정하고, 레이블은 0으로 설정\n",
    "        label = 0  # 레이블을 설정하는 방식은 데이터셋에 맞게 수정하세요.\n",
    "        \n",
    "        return video, label"
   ]
  },
  {
   "cell_type": "code",
   "execution_count": null,
   "metadata": {},
   "outputs": [],
   "source": [
    "transform = transforms.Compose([\n",
    "    transforms.Resize((224, 224)),  # 이미지 크기 조정\n",
    "    transforms.ToTensor(),  # 이미지를 텐서로 변환\n",
    "    transforms.Normalize(mean=[0.485, 0.456, 0.406], std=[0.229, 0.224, 0.225])  # 정규화 (예: ImageNet 평균값)\n",
    "])\n"
   ]
  },
  {
   "cell_type": "code",
   "execution_count": null,
   "metadata": {},
   "outputs": [],
   "source": [
    "# 영상 데이터가 저장된 폴더 경로\n",
    "video_folder = 'data'\n",
    "\n",
    "# 데이터셋 객체 생성\n",
    "dataset = VideoDataset(video_folder, transform=transform)\n",
    "\n",
    "# 데이터 로더 객체 생성 (배치 크기 32, 셔플 활성화)\n",
    "data_loader = DataLoader(dataset, batch_size=32, shuffle=True)\n",
    "\n",
    "# 데이터 로더를 사용하여 배치 단위로 데이터 확인\n",
    "for videos, labels in data_loader:\n",
    "    print(videos.shape, labels.shape)\n",
    "    break  # 한 배치만 출력\n"
   ]
  },
  {
   "cell_type": "code",
   "execution_count": null,
   "metadata": {},
   "outputs": [],
   "source": [
    "device = torch.device('cuda:0') if torch.cuda.is_available() else torch.device('cpu')\n",
    "model = PoseGCN().to(device)\n",
    "optimizer = optim.RAdam(model.parameters(),lr = 1e-3)\n",
    "criterion = nn.MSELoss()\n",
    "scheduler = CosineAnnealingLR(optimizer, T_max=25, eta_min=0.0001)\n",
    "def saveModel():\n",
    "    torch.save(model.state_dict(), f'model/classifying.pt')\n",
    "loss_ = []\n",
    "valoss_ = []\n",
    "logger = {\"train_loss\": list(),\n",
    "          \"validation_loss\": list(),\n",
    "\n",
    "          }\n",
    "\n"
   ]
  },
  {
   "cell_type": "code",
   "execution_count": null,
   "metadata": {},
   "outputs": [],
   "source": [
    "def training(epochs) :\n",
    "\n",
    "    for epoch in range(epochs):\n",
    "        running_train_loss = 0.0\n",
    "        running_vall_loss = 0.0\n",
    "        total = 0\n",
    "        model.train()\n",
    "        for data in train_x:\n",
    "            inputs = data\n",
    "            outputs = data\n",
    "\n",
    "            optimizer.zero_grad()  # zero the parameter gradients\n",
    "            encoded, predicted_outputs = model((inputs))  # predict output from the model\n",
    "            train_loss = criterion(predicted_outputs, outputs)# calculate loss for the predicted output\n",
    "\n",
    "            train_loss.backward()  # backpropagate the loss\n",
    "            optimizer.step()  # adjust parameters based on the calculated gradients\n",
    "            running_train_loss += train_loss.item()  # track the loss value\n",
    "\n",
    "        loss_.append(running_train_loss / n)\n",
    "        with torch.no_grad():\n",
    "            model.eval()\n",
    "            for data in valid_x:\n",
    "                inputs = data\n",
    "                outputs = data\n",
    "\n",
    "                encoded, predicted_outputs = model((inputs))\n",
    "                val_loss = criterion(predicted_outputs, outputs)\n",
    "\n",
    "                # The label with the highest value will be our prediction\n",
    "                _, predicted = torch.max(predicted_outputs, 1)\n",
    "                running_vall_loss += val_loss.item()\n",
    "                total += outputs.size(0)\n",
    "                val_loss_value = running_vall_loss / len(valid_x)\n",
    "\n",
    "\n",
    "        valoss_.append(val_loss_value)\n",
    "\n",
    "        avgtrainloss = np.mean(loss_)\n",
    "        avgvalidloss = np.mean(valoss_)\n",
    "        print('epoch', epoch + 1)\n",
    "        print(f'train loss : {avgtrainloss}, validation loss : {avgvalidloss}')\n",
    "        early_stopping(avgvalidloss, model)\n",
    "        if early_stopping.early_stop:  # 조건 만족 시 조기 종료\n",
    "            break\n",
    "    saveModel()"
   ]
  }
 ],
 "metadata": {
  "kernelspec": {
   "display_name": "oldjins",
   "language": "python",
   "name": "python3"
  },
  "language_info": {
   "name": "python",
   "version": "3.9.11"
  }
 },
 "nbformat": 4,
 "nbformat_minor": 2
}
