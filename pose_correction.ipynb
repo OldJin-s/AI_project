{
 "cells": [
  {
   "cell_type": "code",
   "execution_count": 1,
   "metadata": {},
   "outputs": [],
   "source": [
    "import numpy as np\n",
    "import torch\n",
    "from torch import nn\n",
    "import torch.optim as optim\n",
    "import matplotlib.pyplot as plt\n",
    "from lstm_autoencoder_source import CNN_Autoencoder\n",
    "from torch.optim.lr_scheduler import CosineAnnealingLR\n",
    "from torch.utils.data import Dataset, DataLoader\n",
    "from torchvision import transforms\n",
    "from PIL import Image\n",
    "import os\n",
    "import cv2\n",
    "import pickle"
   ]
  },
  {
   "cell_type": "code",
   "execution_count": 2,
   "metadata": {},
   "outputs": [],
   "source": [
    "kind = 'lunge'\n",
    "with open(f\"{kind}_dataloader.pkl\", \"rb\") as f:\n",
    "    saved_data = pickle.load(f)\n",
    "\n",
    "loaded_dataset = saved_data[\"dataset\"]\n",
    "dataloader = DataLoader(\n",
    "    loaded_dataset,\n",
    "    batch_size=saved_data[\"batch_size\"],\n",
    "    shuffle=saved_data[\"shuffle\"],\n",
    ")"
   ]
  },
  {
   "cell_type": "code",
   "execution_count": 3,
   "metadata": {},
   "outputs": [
    {
     "name": "stdout",
     "output_type": "stream",
     "text": [
      "Epoch [1/10], Loss: 0.6450609139033726\n",
      "model_saved\n",
      "Epoch [2/10], Loss: 0.6366143992968968\n",
      "model_saved\n",
      "Epoch [3/10], Loss: 0.6259746551513672\n",
      "model_saved\n",
      "Epoch [4/10], Loss: 0.5247619322368077\n",
      "model_saved\n",
      "Epoch [5/10], Loss: 0.22056557663849422\n",
      "model_saved\n",
      "Epoch [6/10], Loss: 0.09695594970669065\n",
      "model_saved\n",
      "Epoch [7/10], Loss: 0.06168675582323756\n",
      "model_saved\n",
      "Epoch [8/10], Loss: 0.04572027336273875\n",
      "model_saved\n",
      "Epoch [9/10], Loss: 0.03625815042427608\n",
      "model_saved\n",
      "Epoch [10/10], Loss: 0.03114562907389232\n",
      "model_saved\n"
     ]
    }
   ],
   "source": [
    "device = torch.device('cuda:0') if torch.cuda.is_available() else torch.device('mps') if torch.mps.is_available() else torch.device('cpu')\n",
    "model = CNN_Autoencoder().to(device)\n",
    "def saveModel():\n",
    "    torch.save(model.state_dict(), f'model/{kind}_train.pt')\n",
    "criterion = nn.BCELoss()\n",
    "optimizer = torch.optim.RAdam(model.parameters(), lr=1e-2)\n",
    "scheduler = CosineAnnealingLR(optimizer,T_max= 25, eta_min=1e-3)\n",
    "# 학습 루프\n",
    "epochs = 10\n",
    "min_loss = 1e+10\n",
    "for epoch in range(epochs):\n",
    "    model.train()\n",
    "    running_loss = 0.0\n",
    "    for framex,framey in dataloader:\n",
    "        input = framex.to(device)        \n",
    "        optimizer.zero_grad()\n",
    "\n",
    "        # 순전파\n",
    "        output = model(input)\n",
    "\n",
    "        # 손실 계산\n",
    "        loss = criterion(output,framey.to(device))\n",
    "        loss.backward()\n",
    "        optimizer.step()\n",
    "\n",
    "        running_loss += loss.item()\n",
    "    mean_loss =running_loss / len(dataloader)\n",
    "    print(f\"Epoch [{epoch + 1}/{epochs}], Loss: {running_loss / len(dataloader)}\")\n",
    "    if min(mean_loss,min_loss) == mean_loss:\n",
    "        min_loss = mean_loss\n",
    "        print('model_saved')\n",
    "        saveModel()\n",
    "    "
   ]
  },
  {
   "cell_type": "code",
   "execution_count": null,
   "metadata": {},
   "outputs": [],
   "source": []
  }
 ],
 "metadata": {
  "kernelspec": {
   "display_name": "oldjins",
   "language": "python",
   "name": "python3"
  },
  "language_info": {
   "codemirror_mode": {
    "name": "ipython",
    "version": 3
   },
   "file_extension": ".py",
   "mimetype": "text/x-python",
   "name": "python",
   "nbconvert_exporter": "python",
   "pygments_lexer": "ipython3",
   "version": "3.9.11"
  }
 },
 "nbformat": 4,
 "nbformat_minor": 2
}
