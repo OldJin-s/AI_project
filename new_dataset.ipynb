{
 "cells": [
  {
   "cell_type": "markdown",
   "metadata": {},
   "source": [
    "### 노드별 구분 데이터셋 만들기 "
   ]
  },
  {
   "cell_type": "code",
   "execution_count": 5,
   "metadata": {},
   "outputs": [],
   "source": [
    "import json\n",
    "import pandas as pd\n",
    "\n",
    "node = \"squat_graph_folder/squat_001_landmarks_edges.json\"\n",
    "name = \"squat\""
   ]
  },
  {
   "cell_type": "code",
   "execution_count": 6,
   "metadata": {},
   "outputs": [
    {
     "name": "stdout",
     "output_type": "stream",
     "text": [
      "   frame  node_id         x         y         z\n",
      "0      1        0  0.574800  0.142846 -0.070932\n",
      "1      1        1  0.569326  0.125628 -0.057513\n",
      "2      1        2  0.567857  0.124595 -0.057552\n",
      "3      1        3  0.566235  0.123291 -0.057516\n",
      "4      1        4  0.569031  0.125324 -0.093253\n"
     ]
    }
   ],
   "source": [
    "# JSON 데이터 로드\n",
    "with open(node, \"r\") as f:\n",
    "    data = json.load(f)\n",
    "\n",
    "# 모든 프레임 데이터를 담을 리스트\n",
    "rows = []\n",
    "\n",
    "# JSON 데이터에서 필요한 정보를 추출\n",
    "for frame_data in data:  # 데이터는 프레임별로 존재한다고 가정\n",
    "    frame = frame_data[\"frame\"]\n",
    "    nodes = frame_data[\"nodes\"]\n",
    "    \n",
    "    for node in nodes:\n",
    "        row = {\n",
    "            \"frame\": frame,\n",
    "            \"node_id\": node[\"node_id\"],\n",
    "            \"x\": node[\"x\"],\n",
    "            \"y\": node[\"y\"],\n",
    "            \"z\": node[\"z\"]\n",
    "        }\n",
    "        rows.append(row)\n",
    "\n",
    "# Pandas 데이터프레임 생성\n",
    "df = pd.DataFrame(rows)\n",
    "\n",
    "# 결과 확인\n",
    "print(df.head())"
   ]
  },
  {
   "cell_type": "markdown",
   "metadata": {},
   "source": [
    "### csv 파일로 일단 저장"
   ]
  },
  {
   "cell_type": "code",
   "execution_count": 7,
   "metadata": {},
   "outputs": [
    {
     "name": "stdout",
     "output_type": "stream",
     "text": [
      "CSV data has been saved to squat_csv_data\\squat_001.csv\n"
     ]
    }
   ],
   "source": [
    "import os\n",
    "\n",
    "# 저장할 폴더 경로\n",
    "folder_path = \"squat_csv_data\"  # 상대경로로 폴더 이름 지정\n",
    "file_path = os.path.join(folder_path, \"squat_001.csv\")  # 파일 경로 지정\n",
    "\n",
    "# 폴더가 존재하지 않으면 폴더 생성\n",
    "if not os.path.exists(folder_path):\n",
    "    os.makedirs(folder_path)\n",
    "\n",
    "# 데이터프레임을 CSV 파일로 저장\n",
    "df.to_csv(file_path, index=False)\n",
    "\n",
    "print(f\"CSV data has been saved to {file_path}\")\n"
   ]
  },
  {
   "cell_type": "markdown",
   "metadata": {},
   "source": [
    "### 특정 node_id만 구해서 csv 다시 만들기"
   ]
  },
  {
   "cell_type": "code",
   "execution_count": null,
   "metadata": {},
   "outputs": [
    {
     "name": "stdout",
     "output_type": "stream",
     "text": [
      "    frame  node_id         x         y         z\n",
      "23      1       23  0.526231  0.488897  0.115590\n",
      "24      1       24  0.528090  0.490009 -0.115689\n",
      "25      1       25  0.518149  0.691615  0.132436\n",
      "26      1       26  0.514722  0.699262 -0.085370\n",
      "27      1       27  0.512704  0.905930  0.214789\n",
      "Selected data has been saved to squat_csv_data\\squat_csv_001.csv\n"
     ]
    }
   ],
   "source": [
    "# 특정 node_id만 구해서 csv 다시 만들기\n",
    "\n",
    "import json\n",
    "import pandas as pd\n",
    "import os\n",
    "\n",
    "node = \"push_graph_folder/push_001_landmarks_edges.json\"\n",
    "\n",
    "# JSON 데이터 로드\n",
    "with open(node, \"r\") as f:\n",
    "    data = json.load(f)\n",
    "\n",
    "# 모든 프레임 데이터를 담을 리스트\n",
    "rows = []\n",
    "\n",
    "# JSON 데이터에서 필요한 정보를 추출\n",
    "for frame_data in data:  # 데이터는 프레임별로 존재한다고 가정\n",
    "    frame = frame_data[\"frame\"]\n",
    "    nodes = frame_data[\"nodes\"]\n",
    "    \n",
    "    for node in nodes:\n",
    "        row = {\n",
    "            \"frame\": frame,\n",
    "            \"node_id\": node[\"node_id\"],\n",
    "            \"x\": node[\"x\"],\n",
    "            \"y\": node[\"y\"],\n",
    "            \"z\": node[\"z\"]\n",
    "        }\n",
    "        rows.append(row)\n",
    "\n",
    "# Pandas 데이터프레임 생성\n",
    "df = pd.DataFrame(rows)\n",
    "\n",
    "# 원하는 node_id 목록 (추출할 node_id)\n",
    "selected_node_ids = [23, 24, 25, 26, 27, 28]  # 예시로 0, 1, 3, 5 노드를 선택\n",
    "\n",
    "# 해당 node_id에 해당하는 행만 필터링하여 새로운 데이터프레임 생성\n",
    "df_selected = df[df['node_id'].isin(selected_node_ids)]\n",
    "\n",
    "# 필터링된 데이터 확인\n",
    "print(df_selected.head())\n",
    "\n",
    "# 저장할 폴더 경로\n",
    "folder_path = \"squat_csv_data\"\n",
    "file_path = os.path.join(folder_path, \"squat_csv_001.csv\")\n",
    "\n",
    "# 폴더가 존재하지 않으면 폴더 생성\n",
    "if not os.path.exists(folder_path):\n",
    "    os.makedirs(folder_path)\n",
    "\n",
    "# 선택된 데이터를 CSV로 저장\n",
    "df_selected.to_csv(file_path, index=False)\n",
    "\n",
    "print(f\"Selected data has been saved to {file_path}\")\n"
   ]
  },
  {
   "cell_type": "markdown",
   "metadata": {},
   "source": [
    "## for 반복 100번\n",
    "- Squat (좌우 골반, 좌우 무릎, 좌우 발목)\n",
    "- selected_node_ids = [23, 24, 25, 26, 27, 28]\n",
    "\n",
    "- Push-up (좌우 어깨, 좌우 팔목, 좌우 손목, 좌우 골반)\n",
    "- selected_node_ids = [11, 12, 13, 14, 15, 16, 23, 24]\n",
    "\n",
    "- Lunge (좌우 골반, 좌우 무릎, 좌우 발목)\n",
    "- selected_node_ids = [23, 24, 25, 26, 27, 28]"
   ]
  },
  {
   "cell_type": "code",
   "execution_count": null,
   "metadata": {},
   "outputs": [],
   "source": [
    "import json\n",
    "import pandas as pd\n",
    "import os\n",
    "\n",
    "# 파일 번호 1부터 100까지 반복\n",
    "for i in range(1, 101):\n",
    "    # 파일 번호에 맞게 node 파일 경로와 저장할 CSV 파일 경로를 설정\n",
    "    node = f\"lunge_graph_folder/lunge_{i:03d}_landmarks_edges.json\"  # 001, 002, ... 100\n",
    "    file_path = os.path.join(\"lunge_csv_data\", f\"lunge_{i:03d}.csv\")  # 001.csv, 002.csv, ... 100.csv\n",
    "\n",
    "    # JSON 데이터 로드\n",
    "    try:\n",
    "        with open(node, \"r\") as f:\n",
    "            data = json.load(f)\n",
    "    except FileNotFoundError:\n",
    "        print(f\"File {node} not found. Skipping...\")\n",
    "        continue  # 파일이 없으면 넘어가도록 함\n",
    "\n",
    "    # 모든 프레임 데이터를 담을 리스트\n",
    "    rows = []\n",
    "\n",
    "    # JSON 데이터에서 필요한 정보를 추출\n",
    "    for frame_data in data:  # 데이터는 프레임별로 존재한다고 가정\n",
    "        frame = frame_data[\"frame\"]\n",
    "        nodes = frame_data[\"nodes\"]\n",
    "\n",
    "        for node in nodes:\n",
    "            row = {\n",
    "                \"frame\": frame,\n",
    "                \"node_id\": node[\"node_id\"],\n",
    "                \"x\": node[\"x\"],\n",
    "                \"y\": node[\"y\"],\n",
    "                \"z\": node[\"z\"]\n",
    "            }\n",
    "            rows.append(row)\n",
    "\n",
    "    # Pandas 데이터프레임 생성\n",
    "    df = pd.DataFrame(rows)\n",
    "\n",
    "    # 원하는 node_id 목록 (추출할 node_id)\n",
    "    selected_node_ids = [23, 24, 25, 26, 27, 28]  # 예시로 0, 1, 3, 5 노드를 선택\n",
    "\n",
    "    # 해당 node_id에 해당하는 행만 필터링하여 새로운 데이터프레임 생성\n",
    "    df_selected = df[df['node_id'].isin(selected_node_ids)]\n",
    "\n",
    "    # 필터링된 데이터 확인 (선택적으로 출력)\n",
    "    # print(df_selected.head())\n",
    "\n",
    "    # 저장할 폴더 경로\n",
    "    folder_path = \"lunge_csv_data\"\n",
    "\n",
    "    # 폴더가 존재하지 않으면 폴더 생성\n",
    "    if not os.path.exists(folder_path):\n",
    "        os.makedirs(folder_path)\n",
    "\n",
    "    # 선택된 데이터를 CSV로 저장\n",
    "    df_selected.to_csv(file_path, index=False)\n",
    "\n",
    "    print(f\"Selected data has been saved to {file_path}\")\n"
   ]
  }
 ],
 "metadata": {
  "kernelspec": {
   "display_name": "pytorch-env",
   "language": "python",
   "name": "python3"
  },
  "language_info": {
   "codemirror_mode": {
    "name": "ipython",
    "version": 3
   },
   "file_extension": ".py",
   "mimetype": "text/x-python",
   "name": "python",
   "nbconvert_exporter": "python",
   "pygments_lexer": "ipython3",
   "version": "3.12.8"
  }
 },
 "nbformat": 4,
 "nbformat_minor": 2
}
