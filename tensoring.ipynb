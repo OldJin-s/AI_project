{
 "cells": [
  {
   "cell_type": "markdown",
   "metadata": {},
   "source": [
    "## 운동 분류"
   ]
  },
  {
   "cell_type": "code",
   "execution_count": 1,
   "metadata": {},
   "outputs": [],
   "source": [
    "import numpy as np\n",
    "import torch\n",
    "from torch.utils.data import Dataset, DataLoader\n",
    "from torchvision import transforms\n",
    "from PIL import Image\n",
    "from class_code.make_dataset import ExerciseDataset\n",
    "from class_code.make_whole_data import WholeExerciseDataset\n",
    "import os\n",
    "import cv2\n",
    "import pickle"
   ]
  },
  {
   "cell_type": "markdown",
   "metadata": {},
   "source": [
    "## data "
   ]
  },
  {
   "cell_type": "code",
   "execution_count": 2,
   "metadata": {},
   "outputs": [],
   "source": [
    "# 데이터 전처리 정의 (프레임 단위로 처리)\n",
    "transform = transforms.Compose([\n",
    "    transforms.Resize((224, 224)),  # 프레임 크기 조정\n",
    "    transforms.Normalize(mean=[0.485, 0.456, 0.406], std=[0.229, 0.224, 0.225])  # 정규화 (ImageNet 기준)\n",
    "])\n",
    "\n"
   ]
  },
  {
   "cell_type": "markdown",
   "metadata": {},
   "source": [
    "## 초반 15프레임만 텐서로 저장"
   ]
  },
  {
   "cell_type": "code",
   "execution_count": 3,
   "metadata": {},
   "outputs": [
    {
     "name": "stdout",
     "output_type": "stream",
     "text": [
      "Batch 1\n",
      "Videos shape: torch.Size([4, 15, 3, 224, 224])\n",
      "Labels shape: torch.Size([4, 3])\n"
     ]
    }
   ],
   "source": [
    "# 데이터셋 경로 설정\n",
    "root_dir = \"data\"\n",
    "\n",
    "# 데이터셋 생성\n",
    "dataset = ExerciseDataset(root_dir, transform=transform, frames_per_video=15)\n",
    "\n",
    "# 데이터 로더 생성\n",
    "start_data_loader = DataLoader(dataset, batch_size=4, shuffle=True)\n",
    "\n",
    "# 데이터 확인\n",
    "for batch_idx, (videos, labels) in enumerate(start_data_loader):\n",
    "    print(f\"Batch {batch_idx + 1}\")\n",
    "    print(f\"Videos shape: {videos.shape}\")  # (Batch, T, C, H, W)\n",
    "    print(f\"Labels shape: {labels.shape}\")  # (Batch, Class)\n",
    "    break\n"
   ]
  },
  {
   "cell_type": "code",
   "execution_count": 4,
   "metadata": {},
   "outputs": [],
   "source": [
    "# DataLoader 저장\n",
    "with open(\"start_dataloader.pkl\", \"wb\") as f:\n",
    "    pickle.dump({\n",
    "        \"dataset\": dataset,\n",
    "        \"batch_size\": start_data_loader.batch_size,\n",
    "        \"sampler\": start_data_loader.sampler,\n",
    "        \"shuffle\": isinstance(start_data_loader.sampler, torch.utils.data.sampler.RandomSampler),\n",
    "    }, f)\n"
   ]
  },
  {
   "cell_type": "markdown",
   "metadata": {},
   "source": [
    "## 전체 데이터셋 텐서로 저장"
   ]
  },
  {
   "cell_type": "markdown",
   "metadata": {},
   "source": [
    "### squat"
   ]
  },
  {
   "cell_type": "code",
   "execution_count": null,
   "metadata": {},
   "outputs": [],
   "source": [
    "# 데이터셋 경로 설정\n",
    "root_dir = \"data/squat_processed\"\n",
    "\n",
    "# 데이터셋 생성\n",
    "dataset = WholeExerciseDataset(root_dir, transform=transform, frames_per_video=90)\n",
    "\n",
    "# 데이터 로더 생성\n",
    "squat_data_loader = DataLoader(dataset, batch_size=4, shuffle=True)\n",
    "\n",
    "# 데이터 확인\n",
    "for batch_idx, (videos) in enumerate(squat_data_loader):\n",
    "    print(f\"Batch {batch_idx + 1}\")\n",
    "    print(f\"Videos shape: {videos.shape}\")  # (Batch, T, C, H, W)\n",
    "    break\n"
   ]
  },
  {
   "cell_type": "code",
   "execution_count": 7,
   "metadata": {},
   "outputs": [],
   "source": [
    "# DataLoader 저장\n",
    "with open(\"squat_dataloader.pkl\", \"wb\") as f:\n",
    "    pickle.dump({\n",
    "        \"dataset\":dataset,\n",
    "        \"batch_size\": squat_data_loader.batch_size,\n",
    "        \"sampler\": squat_data_loader.sampler,\n",
    "        \"shuffle\": isinstance(squat_data_loader.sampler, torch.utils.data.sampler.RandomSampler),\n",
    "    }, f)"
   ]
  },
  {
   "cell_type": "markdown",
   "metadata": {},
   "source": [
    "### lunge"
   ]
  },
  {
   "cell_type": "code",
   "execution_count": null,
   "metadata": {},
   "outputs": [],
   "source": [
    "root_dir = \"data/lunge_processed\"\n",
    "\n",
    "# 데이터셋 생성\n",
    "dataset = WholeExerciseDataset(root_dir, transform=transform, frames_per_video=90)\n",
    "\n",
    "# 데이터 로더 생성\n",
    "lunge_data_loader = DataLoader(dataset, batch_size=4, shuffle=True)\n",
    "\n",
    "# 데이터 확인\n",
    "for batch_idx, (videos) in enumerate(lunge_data_loader):\n",
    "    print(f\"Batch {batch_idx + 1}\")\n",
    "    print(f\"Videos shape: {videos.shape}\")  # (Batch, T, C, H, W)\n",
    "    break"
   ]
  },
  {
   "cell_type": "code",
   "execution_count": 9,
   "metadata": {},
   "outputs": [],
   "source": [
    "# DataLoader 저장\n",
    "with open(\"lunge_dataloader.pkl\", \"wb\") as f:\n",
    "    pickle.dump({\n",
    "        \"dataset\":dataset,\n",
    "        \"batch_size\": lunge_data_loader.batch_size,\n",
    "        \"sampler\": lunge_data_loader.sampler,\n",
    "        \"shuffle\": isinstance(lunge_data_loader.sampler, torch.utils.data.sampler.RandomSampler),\n",
    "    }, f)"
   ]
  },
  {
   "cell_type": "markdown",
   "metadata": {},
   "source": [
    "### push-up"
   ]
  },
  {
   "cell_type": "code",
   "execution_count": null,
   "metadata": {},
   "outputs": [],
   "source": [
    "root_dir = \"data/push_processed\"\n",
    "\n",
    "# 데이터셋 생성\n",
    "dataset = WholeExerciseDataset(root_dir, transform=transform, frames_per_video=90)\n",
    "\n",
    "# 데이터 로더 생성\n",
    "pushup_data_loader = DataLoader(dataset, batch_size=4, shuffle=True)\n",
    "\n",
    "# 데이터 확인\n",
    "for batch_idx, (videos) in enumerate(pushup_data_loader):\n",
    "    print(f\"Batch {batch_idx + 1}\")\n",
    "    print(f\"Videos shape: {videos.shape}\")  # (Batch, T, C, H, W)\n",
    "    break"
   ]
  },
  {
   "cell_type": "code",
   "execution_count": 11,
   "metadata": {},
   "outputs": [],
   "source": [
    "# DataLoader 저장\n",
    "with open(\"pushup_dataloader.pkl\", \"wb\") as f:\n",
    "    pickle.dump({\n",
    "        \"dataset\":dataset,\n",
    "        \"batch_size\": pushup_data_loader.batch_size,\n",
    "        \"sampler\": pushup_data_loader.sampler,\n",
    "        \"shuffle\": isinstance(pushup_data_loader.sampler, torch.utils.data.sampler.RandomSampler),\n",
    "    }, f)"
   ]
  },
  {
   "cell_type": "code",
   "execution_count": null,
   "metadata": {},
   "outputs": [],
   "source": []
  }
 ],
 "metadata": {
  "kernelspec": {
   "display_name": "oldjins",
   "language": "python",
   "name": "python3"
  },
  "language_info": {
   "codemirror_mode": {
    "name": "ipython",
    "version": 3
   },
   "file_extension": ".py",
   "mimetype": "text/x-python",
   "name": "python",
   "nbconvert_exporter": "python",
   "pygments_lexer": "ipython3",
   "version": "3.9.11"
  }
 },
 "nbformat": 4,
 "nbformat_minor": 2
}
