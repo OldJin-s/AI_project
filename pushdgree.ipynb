{
 "cells": [
  {
   "cell_type": "code",
   "execution_count": 2,
   "metadata": {},
   "outputs": [
    {
     "name": "stdout",
     "output_type": "stream",
     "text": [
      "Defaulting to user installation because normal site-packages is not writeable\n",
      "Requirement already satisfied: pandas in /Users/gyeongmi/Library/Python/3.9/lib/python/site-packages (2.2.3)\n",
      "Requirement already satisfied: tzdata>=2022.7 in /Users/gyeongmi/Library/Python/3.9/lib/python/site-packages (from pandas) (2025.1)\n",
      "Requirement already satisfied: pytz>=2020.1 in /Users/gyeongmi/Library/Python/3.9/lib/python/site-packages (from pandas) (2024.2)\n",
      "Requirement already satisfied: numpy>=1.22.4 in /Users/gyeongmi/Library/Python/3.9/lib/python/site-packages (from pandas) (1.26.4)\n",
      "Requirement already satisfied: python-dateutil>=2.8.2 in /Users/gyeongmi/Library/Python/3.9/lib/python/site-packages (from pandas) (2.9.0.post0)\n",
      "Requirement already satisfied: six>=1.5 in /Users/gyeongmi/Library/Python/3.9/lib/python/site-packages (from python-dateutil>=2.8.2->pandas) (1.17.0)\n",
      "\u001b[33mWARNING: You are using pip version 21.2.4; however, version 24.3.1 is available.\n",
      "You should consider upgrading via the '/Library/Developer/CommandLineTools/usr/bin/python3 -m pip install --upgrade pip' command.\u001b[0m\n",
      "Note: you may need to restart the kernel to use updated packages.\n",
      "Defaulting to user installation because normal site-packages is not writeable\n",
      "Collecting ace_tools\n",
      "  Downloading ace_tools-0.0-py3-none-any.whl (1.1 kB)\n",
      "Installing collected packages: ace-tools\n",
      "Successfully installed ace-tools-0.0\n",
      "\u001b[33mWARNING: You are using pip version 21.2.4; however, version 24.3.1 is available.\n",
      "You should consider upgrading via the '/Library/Developer/CommandLineTools/usr/bin/python3 -m pip install --upgrade pip' command.\u001b[0m\n",
      "Note: you may need to restart the kernel to use updated packages.\n"
     ]
    }
   ],
   "source": [
    "%pip install pandas\n",
    "%pip install ace_tools"
   ]
  },
  {
   "cell_type": "code",
   "execution_count": 3,
   "metadata": {},
   "outputs": [
    {
     "name": "stdout",
     "output_type": "stream",
     "text": [
      "Defaulting to user installation because normal site-packages is not writeable\n",
      "\u001b[31mERROR: Could not find a version that satisfies the requirement math (from versions: none)\u001b[0m\n",
      "\u001b[31mERROR: No matching distribution found for math\u001b[0m\n",
      "\u001b[33mWARNING: You are using pip version 21.2.4; however, version 24.3.1 is available.\n",
      "You should consider upgrading via the '/Library/Developer/CommandLineTools/usr/bin/python3 -m pip install --upgrade pip' command.\u001b[0m\n",
      "Note: you may need to restart the kernel to use updated packages.\n"
     ]
    }
   ],
   "source": [
    "%pip install math"
   ]
  },
  {
   "cell_type": "code",
   "execution_count": null,
   "metadata": {},
   "outputs": [
    {
     "name": "stdout",
     "output_type": "stream",
     "text": [
      "팔꿈치 기준 각도: 75.00° ~ 105.00°\n",
      "엉덩이 기준 각도: 160.00° ~ 180.00°\n",
      "겨드랑이 기준 각도: 40.00° ~ 50.00°\n"
     ]
    },
    {
     "name": "stderr",
     "output_type": "stream",
     "text": [
      "WARNING: All log messages before absl::InitializeLog() is called are written to STDERR\n",
      "I0000 00:00:1737518990.353579 8764578 gl_context.cc:369] GL version: 2.1 (2.1 ATI-6.1.13), renderer: AMD Radeon Pro 555X OpenGL Engine\n",
      "INFO: Created TensorFlow Lite XNNPACK delegate for CPU.\n",
      "W0000 00:00:1737518990.653252 8794281 inference_feedback_manager.cc:114] Feedback manager requires a model with a single signature inference. Disabling support for feedback tensors.\n",
      "W0000 00:00:1737518990.693357 8794281 inference_feedback_manager.cc:114] Feedback manager requires a model with a single signature inference. Disabling support for feedback tensors.\n",
      "W0000 00:00:1737518991.658224 8794280 landmark_projection_calculator.cc:186] Using NORM_RECT without IMAGE_DIMENSIONS is only supported for the square ROI. Provide IMAGE_DIMENSIONS or use PROJECTION_MATRIX.\n",
      "2025-01-22 13:09:52.418 Python[98755:8764578] +[IMKClient subclass]: chose IMKClient_Modern\n",
      "2025-01-22 13:09:52.418 Python[98755:8764578] +[IMKInputSession subclass]: chose IMKInputSession_Modern\n"
     ]
    }
   ],
   "source": [
    "import cv2\n",
    "import mediapipe as mp\n",
    "import pandas as pd\n",
    "import numpy as np\n",
    "import glob\n",
    "\n",
    "# 각도 계산 함수\n",
    "def calculate_angle(point_a, point_b, point_c):\n",
    "    vector_ab = np.array(point_a) - np.array(point_b)\n",
    "    vector_cb = np.array(point_c) - np.array(point_b)\n",
    "    dot_product = np.dot(vector_ab, vector_cb)\n",
    "    magnitude_ab = np.linalg.norm(vector_ab)\n",
    "    magnitude_cb = np.linalg.norm(vector_cb)\n",
    "    if magnitude_ab == 0 or magnitude_cb == 0:\n",
    "        return None\n",
    "    cosine_angle = dot_product / (magnitude_ab * magnitude_cb)\n",
    "    cosine_angle = np.clip(cosine_angle, -1.0, 1.0)\n",
    "    angle = np.degrees(np.arccos(cosine_angle))\n",
    "    return angle\n",
    "\n",
    "# 여러 CSV 파일 읽기\n",
    "file_pattern = \"push_csv_data/push_*.csv\"  # 예: push_001.csv, push_002.csv, ...\n",
    "files = glob.glob(file_pattern)\n",
    "\n",
    "# 데이터 병합\n",
    "all_data = pd.concat([pd.read_csv(file) for file in files], ignore_index=True)\n",
    "\n",
    "# 기준 각도 계산 (전체 데이터의 평균 및 범위 설정)\n",
    "elbow_mean_angle = all_data['elbow_angle'].mean() if 'elbow_angle' in all_data else 90\n",
    "hip_mean_angle = all_data['hip_angle'].mean() if 'hip_angle' in all_data else 170\n",
    "ELBOW_MIN, ELBOW_MAX = elbow_mean_angle - 15, elbow_mean_angle + 15\n",
    "HIP_MIN, HIP_MAX = hip_mean_angle - 10, hip_mean_angle + 10\n",
    "\n",
    "# 겨드랑이 각도 기준 설정 (예제 기준)\n",
    "ARMPIT_MIN, ARMPIT_MAX = 40, 50  # 겨드랑이 각도 범위 설정\n",
    "\n",
    "print(f\"팔꿈치 기준 각도: {ELBOW_MIN:.2f}° ~ {ELBOW_MAX:.2f}°\")\n",
    "print(f\"엉덩이 기준 각도: {HIP_MIN:.2f}° ~ {HIP_MAX:.2f}°\")\n",
    "print(f\"겨드랑이 기준 각도: {ARMPIT_MIN:.2f}° ~ {ARMPIT_MAX:.2f}°\")\n",
    "\n",
    "# Mediapipe 초기화\n",
    "mp_pose = mp.solutions.pose\n",
    "pose = mp_pose.Pose()\n",
    "mp_drawing = mp.solutions.drawing_utils\n",
    "\n",
    "# 웹캠 열기\n",
    "cap = cv2.VideoCapture(0)\n",
    "\n",
    "while cap.isOpened():\n",
    "    ret, frame = cap.read()\n",
    "    if not ret:\n",
    "        print(\"웹캠을 열 수 없습니다.\")\n",
    "        break\n",
    "    \n",
    "    # Mediapipe로 관절 추출\n",
    "    image = cv2.cvtColor(frame, cv2.COLOR_BGR2RGB)\n",
    "    results = pose.process(image)\n",
    "    image = cv2.cvtColor(image, cv2.COLOR_RGB2BGR)\n",
    "\n",
    "    if results.pose_landmarks:\n",
    "        landmarks = results.pose_landmarks.landmark\n",
    "\n",
    "        # 필요한 관절 좌표 추출\n",
    "        def get_point(landmark):\n",
    "            return [landmarks[landmark].x, landmarks[landmark].y, landmarks[landmark].z]\n",
    "        \n",
    "        try:\n",
    "            shoulder = get_point(mp_pose.PoseLandmark.LEFT_SHOULDER)\n",
    "            elbow = get_point(mp_pose.PoseLandmark.LEFT_ELBOW)\n",
    "            wrist = get_point(mp_pose.PoseLandmark.LEFT_WRIST)\n",
    "            hip = get_point(mp_pose.PoseLandmark.LEFT_HIP)\n",
    "            knee = get_point(mp_pose.PoseLandmark.LEFT_KNEE)\n",
    "            \n",
    "            # 각도 계산\n",
    "            elbow_angle = calculate_angle(shoulder, elbow, wrist)\n",
    "            hip_angle = calculate_angle(shoulder, hip, knee)\n",
    "            armpit_angle = calculate_angle(elbow, shoulder, hip)  # 겨드랑이 각도 계산\n",
    "            \n",
    "            # 잘못된 자세 확인\n",
    "            feedback = []\n",
    "            if not (ELBOW_MIN <= elbow_angle <= ELBOW_MAX):\n",
    "                feedback.append(\"팔꿈치 각도 잘못됨\")\n",
    "            if not (HIP_MIN <= hip_angle <= HIP_MAX):\n",
    "                feedback.append(\"엉덩이 각도 잘못됨\")\n",
    "            if not (ARMPIT_MIN <= armpit_angle <= ARMPIT_MAX):\n",
    "                feedback.append(\"겨드랑이 각도 잘못됨\")\n",
    "            \n",
    "            # 피드백 텍스트\n",
    "            feedback_text = \", \".join(feedback) if feedback else \"올바른 자세\"\n",
    "            \n",
    "            # 텍스트 및 각도 표시\n",
    "            cv2.putText(image, f\"Elbow: {elbow_angle:.2f}°\", (50, 50),\n",
    "                        cv2.FONT_HERSHEY_SIMPLEX, 0.7, (0, 255, 0) if not feedback else (0, 0, 255), 2)\n",
    "            cv2.putText(image, f\"Hip: {hip_angle:.2f}°\", (50, 80),\n",
    "                        cv2.FONT_HERSHEY_SIMPLEX, 0.7, (0, 255, 0) if not feedback else (0, 0, 255), 2)\n",
    "            cv2.putText(image, f\"Armpit: {armpit_angle:.2f}°\", (50, 110),\n",
    "                        cv2.FONT_HERSHEY_SIMPLEX, 0.7, (0, 255, 0) if not feedback else (0, 0, 255), 2)\n",
    "            cv2.putText(image, feedback_text, (50, 140),\n",
    "                        cv2.FONT_HERSHEY_SIMPLEX, 0.9, (0, 255, 0) if not feedback else (0, 0, 255), 2)\n",
    "        \n",
    "        except Exception as e:\n",
    "            print(f\"오류 발생: {e}\")\n",
    "    \n",
    "    # Mediapipe 시각화\n",
    "    mp_drawing.draw_landmarks(image, results.pose_landmarks, mp_pose.POSE_CONNECTIONS)\n",
    "    \n",
    "    # 이미지 출력\n",
    "    cv2.imshow(\"Push-up Analysis\", image)\n",
    "    \n",
    "    if cv2.waitKey(1) & 0xFF == ord('q'):\n",
    "        break\n",
    "\n",
    "cap.release()\n",
    "cv2.destroyAllWindows()\n"
   ]
  }
 ],
 "metadata": {
  "kernelspec": {
   "display_name": "Python 3",
   "language": "python",
   "name": "python3"
  },
  "language_info": {
   "codemirror_mode": {
    "name": "ipython",
    "version": 3
   },
   "file_extension": ".py",
   "mimetype": "text/x-python",
   "name": "python",
   "nbconvert_exporter": "python",
   "pygments_lexer": "ipython3",
   "version": "3.9.6"
  }
 },
 "nbformat": 4,
 "nbformat_minor": 2
}
