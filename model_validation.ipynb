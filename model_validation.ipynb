{
 "cells": [
  {
   "cell_type": "code",
   "execution_count": 5,
   "metadata": {},
   "outputs": [],
   "source": [
    "import numpy as np\n",
    "import torch\n",
    "from torch import nn\n",
    "import torch.optim as optim\n",
    "import matplotlib.pyplot as plt\n",
    "from lstm_autoencoder_source import CNN_Autoencoder\n",
    "from torch.utils.data import Dataset, DataLoader\n",
    "from resiudalBlock import ResidualBlock, ResNetAutoencoder\n",
    "from torchvision import transforms\n",
    "from PIL import Image\n",
    "import os\n",
    "import cv2\n",
    "import pickle\n",
    "import mediapipe as mp"
   ]
  },
  {
   "cell_type": "code",
   "execution_count": 6,
   "metadata": {},
   "outputs": [
    {
     "name": "stderr",
     "output_type": "stream",
     "text": [
      "C:\\Users\\JPJ\\AppData\\Local\\Temp\\ipykernel_28876\\4065688455.py:4: FutureWarning: You are using `torch.load` with `weights_only=False` (the current default value), which uses the default pickle module implicitly. It is possible to construct malicious pickle data which will execute arbitrary code during unpickling (See https://github.com/pytorch/pytorch/blob/main/SECURITY.md#untrusted-models for more details). In a future release, the default value for `weights_only` will be flipped to `True`. This limits the functions that could be executed during unpickling. Arbitrary objects will no longer be allowed to be loaded via this mode unless they are explicitly allowlisted by the user via `torch.serialization.add_safe_globals`. We recommend you start setting `weights_only=True` for any use case where you don't have full control of the loaded file. Please open an issue on GitHub for any issues related to this experimental feature.\n",
      "  model_squat_1.load_state_dict(torch.load(squat_model_file_1,map_location=device))\n"
     ]
    },
    {
     "data": {
      "text/plain": [
       "<All keys matched successfully>"
      ]
     },
     "execution_count": 6,
     "metadata": {},
     "output_type": "execute_result"
    }
   ],
   "source": [
    "device = torch.device('cuda:0') if torch.cuda.is_available() else torch.device('mps') if torch.mps.is_available() else torch.device('cpu')\n",
    "squat_model_file_1 = 'model/squat_train.pt'\n",
    "model_squat_1 = ResNetAutoencoder().to(device)\n",
    "model_squat_1.load_state_dict(torch.load(squat_model_file_1,map_location=device))"
   ]
  },
  {
   "cell_type": "code",
   "execution_count": 3,
   "metadata": {},
   "outputs": [
    {
     "ename": "error",
     "evalue": "OpenCV(4.11.0) D:\\a\\opencv-python\\opencv-python\\opencv\\modules\\core\\src\\arithm.cpp:665: error: (-209:Sizes of input arguments do not match) The operation is neither 'array op array' (where arrays have the same size and the same number of channels), nor 'array op scalar', nor 'scalar op array' in function 'cv::arithm_op'\n",
     "output_type": "error",
     "traceback": [
      "\u001b[1;31m---------------------------------------------------------------------------\u001b[0m",
      "\u001b[1;31merror\u001b[0m                                     Traceback (most recent call last)",
      "Cell \u001b[1;32mIn[3], line 68\u001b[0m\n\u001b[0;32m     63\u001b[0m output_frame_color_1 \u001b[38;5;241m=\u001b[39m np\u001b[38;5;241m.\u001b[39mzeros((output_frame_1\u001b[38;5;241m.\u001b[39mshape[\u001b[38;5;241m0\u001b[39m], output_frame_1\u001b[38;5;241m.\u001b[39mshape[\u001b[38;5;241m1\u001b[39m], \u001b[38;5;241m3\u001b[39m), dtype\u001b[38;5;241m=\u001b[39mnp\u001b[38;5;241m.\u001b[39muint8)\n\u001b[0;32m     64\u001b[0m output_frame_color_1[:, :, \u001b[38;5;241m1\u001b[39m] \u001b[38;5;241m=\u001b[39m output_frame_1  \u001b[38;5;66;03m# 초록 채널만 활성화\u001b[39;00m\n\u001b[1;32m---> 68\u001b[0m blended_frame_2 \u001b[38;5;241m=\u001b[39m \u001b[43mcv2\u001b[49m\u001b[38;5;241;43m.\u001b[39;49m\u001b[43maddWeighted\u001b[49m\u001b[43m(\u001b[49m\u001b[43mframe2\u001b[49m\u001b[43m,\u001b[49m\u001b[43m \u001b[49m\u001b[38;5;241;43m0.7\u001b[39;49m\u001b[43m,\u001b[49m\u001b[43m \u001b[49m\u001b[43moutput_frame_color_1\u001b[49m\u001b[43m,\u001b[49m\u001b[43m \u001b[49m\u001b[38;5;241;43m1.3\u001b[39;49m\u001b[43m,\u001b[49m\u001b[43m \u001b[49m\u001b[38;5;241;43m0\u001b[39;49m\u001b[43m)\u001b[49m\n\u001b[0;32m     69\u001b[0m \u001b[38;5;66;03m# 결과를 화면에 표시\u001b[39;00m\n\u001b[0;32m     70\u001b[0m \u001b[38;5;66;03m#cv2.imshow(\"reality_1\", blended_frame_1)\u001b[39;00m\n\u001b[0;32m     71\u001b[0m cv2\u001b[38;5;241m.\u001b[39mimshow(\u001b[38;5;124m\"\u001b[39m\u001b[38;5;124mbefore\u001b[39m\u001b[38;5;124m\"\u001b[39m,blended_frame_2)\n",
      "\u001b[1;31merror\u001b[0m: OpenCV(4.11.0) D:\\a\\opencv-python\\opencv-python\\opencv\\modules\\core\\src\\arithm.cpp:665: error: (-209:Sizes of input arguments do not match) The operation is neither 'array op array' (where arrays have the same size and the same number of channels), nor 'array op scalar', nor 'scalar op array' in function 'cv::arithm_op'\n"
     ]
    }
   ],
   "source": [
    "# Mediapipe 초기화\n",
    "mp_pose = mp.solutions.pose\n",
    "mp_drawing = mp.solutions.drawing_utils\n",
    "pose = mp_pose.Pose()\n",
    "\n",
    "# 웹캠 열기\n",
    "cap = cv2.VideoCapture('squat/squat_001.mp4')\n",
    "# 해상도 설정 (가로, 세로)\n",
    "cap.set(cv2.CAP_PROP_FRAME_WIDTH, 1280)  # 가로 해상도 설정\n",
    "cap.set(cv2.CAP_PROP_FRAME_HEIGHT, 720)  # 세로 해상도 설정\n",
    "\n",
    "# 프레임 속도 설정\n",
    "cap.set(cv2.CAP_PROP_FPS, 30)  # 30 FPS로 설정\n",
    "while cap.isOpened():\n",
    "    ret, frame = cap.read()\n",
    "    if not ret:\n",
    "        print(\"웹캠에서 프레임을 읽을 수 없습니다.\")\n",
    "        break\n",
    "\n",
    "    # Mediapipe는 RGB 이미지를 처리하므로 변환\n",
    "    frame = cv2.resize(frame,(640,480))\n",
    "    frame2 = frame.copy()\n",
    "    rgb_frame = cv2.cvtColor(frame, cv2.COLOR_BGR2RGB)\n",
    "    results = pose.process(rgb_frame)\n",
    "    black_frame = np.zeros((480, 640, 3), dtype=np.uint8)\n",
    "    # 관절 연결 및 포인트 그리기\n",
    "\n",
    "    if results.pose_landmarks:\n",
    "        mp_drawing.draw_landmarks(\n",
    "            black_frame, \n",
    "            results.pose_landmarks, \n",
    "            mp_pose.POSE_CONNECTIONS,\n",
    "            mp_drawing.DrawingSpec(color=(0, 255, 0), thickness=2, circle_radius=2),\n",
    "            mp_drawing.DrawingSpec(color=(0, 255, 0), thickness=2)\n",
    "        )\n",
    "        mp_drawing.draw_landmarks(\n",
    "            frame2, \n",
    "            results.pose_landmarks, \n",
    "            mp_pose.POSE_CONNECTIONS,\n",
    "            mp_drawing.DrawingSpec(color=(255, 0, 0), thickness=2, circle_radius=2),\n",
    "            mp_drawing.DrawingSpec(color=(255, 0, 0), thickness=2)\n",
    "        )\n",
    "    input_tensor = torch.tensor(black_frame[:, :, 1], dtype=torch.float32).unsqueeze(0).unsqueeze(0).to(device)\n",
    "    \n",
    "    # 모델 추론\n",
    "    reconstructed_frame_1 = model_squat_1(input_tensor)\n",
    "    \n",
    "    # 조건부 연산: 0.5보다 크면 255, 아니면 0\n",
    "    # reconstructed_frame_1을 255로 확장한 후, 정수 값으로 변환\n",
    "    # GPU 상의 텐서에서 0에서 255 범위로 변환\n",
    "    reconstructed_frame_1 = torch.round(reconstructed_frame_1 * 255).to(torch.int)\n",
    "\n",
    "\n",
    "    # 모델의 출력 변환\n",
    "    output_frame_1 = reconstructed_frame_1.squeeze().cpu().detach().numpy().astype(np.uint8)\n",
    "    # output_frame을 3채널로 변환 (BGR)\n",
    "    output_frame_color_1 = cv2.cvtColor(output_frame_1, cv2.COLOR_GRAY2BGR)\n",
    "\n",
    "\n",
    "    # output_frame_color의 데이터 타입을 frame과 맞춤 (uint8)\n",
    "    output_frame_color_1 = output_frame_color_1.astype(np.uint8)\n",
    "    # 웹캠 화면과 합성\n",
    "    output_frame_color_1 = np.zeros((output_frame_1.shape[0], output_frame_1.shape[1], 3), dtype=np.uint8)\n",
    "    output_frame_color_1[:, :, 1] = output_frame_1  # 초록 채널만 활성화\n",
    "\n",
    "\n",
    "\n",
    "    blended_frame_2 = cv2.addWeighted(frame2, 0.7, output_frame_color_1, 1.3, 0)\n",
    "    # 결과를 화면에 표시\n",
    "    #cv2.imshow(\"reality_1\", blended_frame_1)\n",
    "    cv2.imshow(\"before\",blended_frame_2)\n",
    "    # 종료 조건 (q 키)\n",
    "\n",
    "\n",
    "    if cv2.waitKey(1) == ord('q'):\n",
    "        break\n",
    "\n",
    "# 리소스 해제\n",
    "cap.release()\n",
    "cv2.destroyAllWindows()\n",
    "\n",
    "cv2.waitKey(1)"
   ]
  },
  {
   "cell_type": "code",
   "execution_count": 10,
   "metadata": {},
   "outputs": [
    {
     "name": "stdout",
     "output_type": "stream",
     "text": [
      "웹캠에서 프레임을 읽을 수 없습니다.\n"
     ]
    },
    {
     "data": {
      "text/plain": [
       "-1"
      ]
     },
     "execution_count": 10,
     "metadata": {},
     "output_type": "execute_result"
    }
   ],
   "source": [
    "# Mediapipe 초기화\n",
    "mp_pose = mp.solutions.pose\n",
    "mp_drawing = mp.solutions.drawing_utils\n",
    "pose = mp_pose.Pose()\n",
    "\n",
    "# 웹캠 열기\n",
    "cap = cv2.VideoCapture('data/squat_wrong/squat_wrong_100.mp4')\n",
    "# 해상도 설정 (가로, 세로)\n",
    "cap.set(cv2.CAP_PROP_FRAME_WIDTH, 1280)  # 가로 해상도 설정\n",
    "cap.set(cv2.CAP_PROP_FRAME_HEIGHT, 720)  # 세로 해상도 설정\n",
    "\n",
    "# 프레임 속도 설정\n",
    "cap.set(cv2.CAP_PROP_FPS, 30)  # 30 FPS로 설정\n",
    "while cap.isOpened():\n",
    "    ret, frame = cap.read()\n",
    "    if not ret:\n",
    "        print(\"웹캠에서 프레임을 읽을 수 없습니다.\")\n",
    "        break\n",
    "\n",
    "    # Mediapipe는 RGB 이미지를 처리하므로 변환\n",
    "    \n",
    "    #results = pose.process(rgb_frame)\n",
    "    black_frame = np.zeros((480, 640, 3), dtype=np.uint8)\n",
    "    frame = cv2.resize(frame, (640,480))\n",
    "    # 관절 연결 및 포인트 그리기\n",
    "\n",
    "    \n",
    "    input_tensor = torch.tensor(frame[:,:,1], dtype=torch.float32).unsqueeze(0).unsqueeze(0).to(device)\n",
    "    \n",
    "    # 모델 추론\n",
    "    reconstructed_frame_1 = model_squat_1(input_tensor)\n",
    "    \n",
    "    # 조건부 연산: 0.5보다 크면 255, 아니면 0\n",
    "    # reconstructed_frame_1을 255로 확장한 후, 정수 값으로 변환\n",
    "    # GPU 상의 텐서에서 0에서 255 범위로 변환\n",
    "    reconstructed_frame_1 = torch.round(reconstructed_frame_1 * 255).to(torch.int)\n",
    "\n",
    "\n",
    "    # 모델의 출력 변환\n",
    "    output_frame_1 = reconstructed_frame_1.squeeze().cpu().detach().numpy().astype(np.uint8)\n",
    "    # output_frame을 3채널로 변환 (BGR)\n",
    "    output_frame_color_1 = cv2.cvtColor(output_frame_1, cv2.COLOR_GRAY2BGR)\n",
    "\n",
    "\n",
    "    # output_frame_color의 데이터 타입을 frame과 맞춤 (uint8)\n",
    "    output_frame_color_1 = output_frame_color_1.astype(np.uint8)\n",
    "    # 웹캠 화면과 합성\n",
    "    output_frame_color_1 = np.zeros((output_frame_1.shape[0], output_frame_1.shape[1], 3), dtype=np.uint8)\n",
    "    output_frame_color_1[:, :, 1] = output_frame_1  # 초록 채널만 활성화\n",
    "\n",
    "    if output_frame_color_1.shape[:2] != frame.shape[:2]:\n",
    "        output_frame_color_1 = cv2.resize(output_frame_color_1, (frame.shape[1], frame.shape[0]))\n",
    "\n",
    "    blended_frame_2 = cv2.addWeighted(frame, 0.7, output_frame_color_1, 1.3, 0)\n",
    "    # 결과를 화면에 표시\n",
    "    #cv2.imshow(\"reality_1\", blended_frame_1)\n",
    "    cv2.imshow(\"before\",blended_frame_2)\n",
    "    # 종료 조건 (q 키)\n",
    "\n",
    "\n",
    "    if cv2.waitKey(1) == ord('q'):\n",
    "        break\n",
    "\n",
    "# 리소스 해제\n",
    "cap.release()\n",
    "cv2.destroyAllWindows()\n",
    "\n",
    "cv2.waitKey(1)"
   ]
  },
  {
   "cell_type": "code",
   "execution_count": null,
   "metadata": {},
   "outputs": [],
   "source": []
  }
 ],
 "metadata": {
  "kernelspec": {
   "display_name": "oldjins",
   "language": "python",
   "name": "python3"
  },
  "language_info": {
   "codemirror_mode": {
    "name": "ipython",
    "version": 3
   },
   "file_extension": ".py",
   "mimetype": "text/x-python",
   "name": "python",
   "nbconvert_exporter": "python",
   "pygments_lexer": "ipython3",
   "version": "3.9.11"
  }
 },
 "nbformat": 4,
 "nbformat_minor": 2
}
